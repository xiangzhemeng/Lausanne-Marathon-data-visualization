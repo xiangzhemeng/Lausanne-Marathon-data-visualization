{
 "cells": [
  {
   "cell_type": "code",
   "execution_count": 1,
   "metadata": {
    "collapsed": true
   },
   "outputs": [],
   "source": [
    "import numpy as np\n",
    "import pandas as pd\n",
    "import seaborn as sb\n",
    "% matplotlib inline\n",
    "from datetime import datetime, timedelta\n",
    "\n",
    "from bs4 import BeautifulSoup as bs\n",
    "import requests"
   ]
  },
  {
   "cell_type": "code",
   "execution_count": 2,
   "metadata": {},
   "outputs": [
    {
     "name": "stdout",
     "output_type": "stream",
     "text": [
      "2002\n",
      "2003\n",
      "2004\n",
      "2005\n",
      "2006\n",
      "2007\n",
      "2008\n",
      "2009\n",
      "2010\n",
      "2011\n",
      "2012\n",
      "2013\n",
      "2014\n",
      "2015\n",
      "2016\n",
      "2017\n"
     ]
    }
   ],
   "source": [
    "# Scrape data\n",
    "\n",
    "years = range(2002, 2018)\n",
    "letter = range(0, 26)\n",
    "URL = \"https://services.datasport.com/{}/lauf/lamara/ALFAA.HTM\"\n",
    "\n",
    "rankings = {}\n",
    "headers = {}\n",
    "for year in years:\n",
    "    r = requests.get(URL.format(year))\n",
    "    soup = bs(r.text, 'html.parser')\n",
    "    title = soup.find('title').getText()\n",
    "    if(title != 'Adresse nicht vorhanden / The address is not available'):\n",
    "        data = soup.findAll('font', {'size':'2'})\n",
    "\n",
    "        print(year)\n",
    "        headers[str(year)] = data[0].getText()\n",
    "        rankings[str(year)] = data[1].getText().split('¦ \\r\\n')\n"
   ]
  },
  {
   "cell_type": "code",
   "execution_count": 6,
   "metadata": {},
   "outputs": [
    {
     "name": "stdout",
     "output_type": "stream",
     "text": [
      "[8, 15, 41, 46, 72, 99, 108, 120, 132, 140, 148, 153, 159, 169]\n",
      "[6, 15, 44, 54, 80, 92, 104, 112]\n",
      "[8, 15, 41, 46, 72, 101, 113, 125, 134, 142, 147, 153, 161, 169, 177]\n",
      "[8, 15, 41, 46, 68, 101, 110, 122, 134, 143, 151, 156, 162, 170, 178, 186]\n",
      "[8, 15, 41, 46, 71, 99, 111, 123, 132, 140, 145, 151, 161]\n",
      "[8, 15, 41, 56, 82, 94, 106, 114, 122]\n",
      "[0]\n",
      "[3, 15, 51, 54, 79, 92, 104, 112]\n",
      "[4, 15, 51, 54, 80, 92, 104, 112]\n",
      "[0]\n",
      "[8, 15, 41, 46, 72, 101, 110, 122, 134, 143, 151, 156, 162, 170, 178, 186]\n",
      "[8, 15, 41, 46, 70, 101, 110, 122, 134, 143, 151, 156, 162, 172]\n",
      "[4, 15, 51, 54, 80, 92, 104, 112]\n",
      "[8, 15, 41, 46, 72, 99, 111, 123, 132, 140, 145, 155, 161, 169]\n",
      "[0]\n",
      "[8, 15, 41, 46, 71, 99, 111, 123, 131, 139, 144, 150, 160]\n"
     ]
    }
   ],
   "source": [
    "def parse_columns(ranking):\n",
    "    column_structure = {}\n",
    "    column_mask = np.ones(np.array(list(ranking[0])).shape, dtype=bool)\n",
    "    spaces_mask = np.ones(np.array(list(ranking[0])).shape)*32\n",
    "    for line in ranking[:-1]:\n",
    "        cur_line = np.array(list(line)).view(np.uint32)\n",
    "        \n",
    "        try:\n",
    "            column_mask = np.logical_and(column_mask, np.equal(cur_line, spaces_mask))\n",
    "        except:\n",
    "            pass\n",
    "        \n",
    "    inside_space_col = False\n",
    "    delimiters = []\n",
    "    for i, is_space_col in enumerate(list(column_mask)):\n",
    "        if is_space_col:\n",
    "            if not inside_space_col:\n",
    "                inside_space_col = True\n",
    "                delimiters.append(i)\n",
    "                \n",
    "        elif inside_space_col:\n",
    "            inside_space_col = False\n",
    "            \n",
    "    return delimiters\n",
    "    \n",
    "\n",
    "def separate_cols(ranking, header):\n",
    "    delimiters = parse_columns(ranking)\n",
    "    print(delimiters)\n",
    "    \n",
    "    start = 0\n",
    "    cols = {} \n",
    "    unnamed = 0\n",
    "    for delimiter in delimiters:\n",
    "        key = header[start:delimiter+1].strip()\n",
    "        if key == '':\n",
    "            key = unnamed\n",
    "            unnamed += 1\n",
    "        cols[key] = (start, delimiter+1)\n",
    "        start = delimiter+1\n",
    "    \n",
    "    start = 0\n",
    "    result = {}\n",
    "    for i, line in enumerate(ranking):\n",
    "        for col in cols:\n",
    "            start, end = cols[col]\n",
    "            if col in result:\n",
    "                result[col].append(line[start:end].strip())\n",
    "            else:\n",
    "                result[col] = [line[start:end].strip()]\n",
    "    return pd.DataFrame(result, columns=result.keys())\n",
    "\n",
    "dfs = {}\n",
    "for year in rankings:\n",
    "    dfs[year] = separate_cols(rankings[year], headers[year])"
   ]
  },
  {
   "cell_type": "code",
   "execution_count": 8,
   "metadata": {},
   "outputs": [
    {
     "data": {
      "text/html": [
       "<div>\n",
       "<style scoped>\n",
       "    .dataframe tbody tr th:only-of-type {\n",
       "        vertical-align: middle;\n",
       "    }\n",
       "\n",
       "    .dataframe tbody tr th {\n",
       "        vertical-align: top;\n",
       "    }\n",
       "\n",
       "    .dataframe thead th {\n",
       "        text-align: right;\n",
       "    }\n",
       "</style>\n",
       "<table border=\"1\" class=\"dataframe\">\n",
       "  <thead>\n",
       "    <tr style=\"text-align: right;\">\n",
       "      <th></th>\n",
       "      <th>c</th>\n",
       "    </tr>\n",
       "  </thead>\n",
       "  <tbody>\n",
       "    <tr>\n",
       "      <th>0</th>\n",
       "      <td>Q</td>\n",
       "    </tr>\n",
       "  </tbody>\n",
       "</table>\n",
       "</div>"
      ],
      "text/plain": [
       "   c\n",
       "0  Q"
      ]
     },
     "execution_count": 8,
     "metadata": {},
     "output_type": "execute_result"
    }
   ],
   "source": [
    "dfs['2006'].head()"
   ]
  },
  {
   "cell_type": "code",
   "execution_count": null,
   "metadata": {
    "collapsed": true
   },
   "outputs": [],
   "source": []
  }
 ],
 "metadata": {
  "kernelspec": {
   "display_name": "Python [conda env:dv]",
   "language": "python",
   "name": "conda-env-dv-py"
  },
  "language_info": {
   "codemirror_mode": {
    "name": "ipython",
    "version": 3
   },
   "file_extension": ".py",
   "mimetype": "text/x-python",
   "name": "python",
   "nbconvert_exporter": "python",
   "pygments_lexer": "ipython3",
   "version": "3.5.4"
  }
 },
 "nbformat": 4,
 "nbformat_minor": 2
}
