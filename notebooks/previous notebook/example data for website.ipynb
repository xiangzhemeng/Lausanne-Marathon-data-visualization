{
 "cells": [
  {
   "cell_type": "code",
   "execution_count": 1,
   "metadata": {
    "collapsed": true
   },
   "outputs": [],
   "source": [
    "import numpy as np\n",
    "import pandas as pd"
   ]
  },
  {
   "cell_type": "code",
   "execution_count": 3,
   "metadata": {},
   "outputs": [
    {
     "data": {
      "text/html": [
       "<div>\n",
       "<style>\n",
       "    .dataframe thead tr:only-child th {\n",
       "        text-align: right;\n",
       "    }\n",
       "\n",
       "    .dataframe thead th {\n",
       "        text-align: left;\n",
       "    }\n",
       "\n",
       "    .dataframe tbody tr th {\n",
       "        vertical-align: top;\n",
       "    }\n",
       "</style>\n",
       "<table border=\"1\" class=\"dataframe\">\n",
       "  <thead>\n",
       "    <tr style=\"text-align: right;\">\n",
       "      <th></th>\n",
       "      <th>Unnamed: 0</th>\n",
       "      <th>Unnamed: 0.1</th>\n",
       "      <th>an</th>\n",
       "      <th>catégorie</th>\n",
       "      <th>doss</th>\n",
       "      <th>lieu</th>\n",
       "      <th>nom</th>\n",
       "      <th>race-year</th>\n",
       "      <th>rang</th>\n",
       "      <th>retard</th>\n",
       "      <th>temps</th>\n",
       "      <th>format_city</th>\n",
       "      <th>Canton</th>\n",
       "      <th>country</th>\n",
       "      <th>lat</th>\n",
       "      <th>lng</th>\n",
       "    </tr>\n",
       "  </thead>\n",
       "  <tbody>\n",
       "    <tr>\n",
       "      <th>0</th>\n",
       "      <td>0</td>\n",
       "      <td>0</td>\n",
       "      <td>50</td>\n",
       "      <td>SD4</td>\n",
       "      <td>(3001)</td>\n",
       "      <td>GB-Luton</td>\n",
       "      <td>Abbitt Pamela</td>\n",
       "      <td>2002</td>\n",
       "      <td>66.</td>\n",
       "      <td>55.32,7</td>\n",
       "      <td>2:30.44,4</td>\n",
       "      <td>Luton</td>\n",
       "      <td>England</td>\n",
       "      <td>GB</td>\n",
       "      <td>51.878671</td>\n",
       "      <td>-0.420025</td>\n",
       "    </tr>\n",
       "    <tr>\n",
       "      <th>1</th>\n",
       "      <td>1</td>\n",
       "      <td>1</td>\n",
       "      <td>52</td>\n",
       "      <td>SH4</td>\n",
       "      <td>(3002)</td>\n",
       "      <td>GB-Luton</td>\n",
       "      <td>Abbitt Philip</td>\n",
       "      <td>2002</td>\n",
       "      <td>182.</td>\n",
       "      <td>40.25,0</td>\n",
       "      <td>2:02.23,2</td>\n",
       "      <td>Luton</td>\n",
       "      <td>England</td>\n",
       "      <td>GB</td>\n",
       "      <td>51.878671</td>\n",
       "      <td>-0.420025</td>\n",
       "    </tr>\n",
       "    <tr>\n",
       "      <th>2</th>\n",
       "      <td>2</td>\n",
       "      <td>2</td>\n",
       "      <td>44</td>\n",
       "      <td>RH</td>\n",
       "      <td>(9411)</td>\n",
       "      <td>Renens VD</td>\n",
       "      <td>Abderhalden Seth</td>\n",
       "      <td>2002</td>\n",
       "      <td>248.</td>\n",
       "      <td>52.40,0</td>\n",
       "      <td>1:29.58,1</td>\n",
       "      <td>Renens</td>\n",
       "      <td>VD</td>\n",
       "      <td>CH</td>\n",
       "      <td>46.533810</td>\n",
       "      <td>6.591370</td>\n",
       "    </tr>\n",
       "    <tr>\n",
       "      <th>3</th>\n",
       "      <td>3</td>\n",
       "      <td>3</td>\n",
       "      <td>60</td>\n",
       "      <td>MH3</td>\n",
       "      <td>(101)</td>\n",
       "      <td>Vernier</td>\n",
       "      <td>Abdulaziz Sirwan</td>\n",
       "      <td>2002</td>\n",
       "      <td>83.</td>\n",
       "      <td>47.01,7</td>\n",
       "      <td>3:13.32,2</td>\n",
       "      <td>Beaverton</td>\n",
       "      <td>OR</td>\n",
       "      <td>US</td>\n",
       "      <td>45.493410</td>\n",
       "      <td>-122.820398</td>\n",
       "    </tr>\n",
       "    <tr>\n",
       "      <th>4</th>\n",
       "      <td>4</td>\n",
       "      <td>4</td>\n",
       "      <td>49</td>\n",
       "      <td>MH4</td>\n",
       "      <td>(102)</td>\n",
       "      <td>JPN-Ibaraki 310-0066</td>\n",
       "      <td>Abe Shinya</td>\n",
       "      <td>2002</td>\n",
       "      <td>222.</td>\n",
       "      <td>2:56.38,8</td>\n",
       "      <td>5:39.21,8</td>\n",
       "      <td>Mito</td>\n",
       "      <td>Ibaraki Prefecture</td>\n",
       "      <td>JP</td>\n",
       "      <td>36.384788</td>\n",
       "      <td>140.463771</td>\n",
       "    </tr>\n",
       "  </tbody>\n",
       "</table>\n",
       "</div>"
      ],
      "text/plain": [
       "   Unnamed: 0  Unnamed: 0.1  an catégorie    doss                  lieu  \\\n",
       "0           0             0  50       SD4  (3001)              GB-Luton   \n",
       "1           1             1  52       SH4  (3002)              GB-Luton   \n",
       "2           2             2  44        RH  (9411)             Renens VD   \n",
       "3           3             3  60       MH3   (101)               Vernier   \n",
       "4           4             4  49       MH4   (102)  JPN-Ibaraki 310-0066   \n",
       "\n",
       "                nom  race-year  rang     retard      temps format_city  \\\n",
       "0     Abbitt Pamela       2002   66.    55.32,7  2:30.44,4       Luton   \n",
       "1     Abbitt Philip       2002  182.    40.25,0  2:02.23,2       Luton   \n",
       "2  Abderhalden Seth       2002  248.    52.40,0  1:29.58,1      Renens   \n",
       "3  Abdulaziz Sirwan       2002   83.    47.01,7  3:13.32,2   Beaverton   \n",
       "4        Abe Shinya       2002  222.  2:56.38,8  5:39.21,8        Mito   \n",
       "\n",
       "               Canton country        lat         lng  \n",
       "0             England      GB  51.878671   -0.420025  \n",
       "1             England      GB  51.878671   -0.420025  \n",
       "2                  VD      CH  46.533810    6.591370  \n",
       "3                  OR      US  45.493410 -122.820398  \n",
       "4  Ibaraki Prefecture      JP  36.384788  140.463771  "
      ]
     },
     "execution_count": 3,
     "metadata": {},
     "output_type": "execute_result"
    }
   ],
   "source": [
    "df_marathon = pd.read_csv('marathon-data-with-geo.csv')\n",
    "df_marathon.head()"
   ]
  },
  {
   "cell_type": "code",
   "execution_count": 5,
   "metadata": {},
   "outputs": [
    {
     "data": {
      "text/plain": [
       "Index(['Unnamed: 0', 'Unnamed: 0.1', 'an', 'catégorie', 'doss', 'lieu', 'nom',\n",
       "       'race-year', 'rang', 'retard', 'temps', 'format_city', 'Canton',\n",
       "       'country', 'lat', 'lng'],\n",
       "      dtype='object')"
      ]
     },
     "execution_count": 5,
     "metadata": {},
     "output_type": "execute_result"
    }
   ],
   "source": [
    "df_marathon = df_marathon.loc[:50]\n",
    "df_marathon.columns"
   ]
  },
  {
   "cell_type": "code",
   "execution_count": 7,
   "metadata": {},
   "outputs": [],
   "source": [
    "df_marathon.drop(['Unnamed: 0', 'Unnamed: 0.1','doss', 'lieu','retard' ],axis = 1, inplace = True)"
   ]
  },
  {
   "cell_type": "code",
   "execution_count": 9,
   "metadata": {},
   "outputs": [],
   "source": [
    "df_marathon.columns = ['Age','Category','Name','Race year','Rank','Time','City','Canton','Country','Latitude','Longitude']"
   ]
  },
  {
   "cell_type": "code",
   "execution_count": 12,
   "metadata": {},
   "outputs": [],
   "source": [
    "df_marathon = df_marathon[['Category','Race year','Rank','Name','Age','Time','City','Canton','Country','Latitude','Longitude']]"
   ]
  },
  {
   "cell_type": "code",
   "execution_count": null,
   "metadata": {
    "collapsed": true
   },
   "outputs": [],
   "source": [
    "df_marathon.to_csv"
   ]
  }
 ],
 "metadata": {
  "kernelspec": {
   "display_name": "Python 3",
   "language": "python",
   "name": "python3"
  },
  "language_info": {
   "codemirror_mode": {
    "name": "ipython",
    "version": 3
   },
   "file_extension": ".py",
   "mimetype": "text/x-python",
   "name": "python",
   "nbconvert_exporter": "python",
   "pygments_lexer": "ipython3",
   "version": "3.6.1"
  }
 },
 "nbformat": 4,
 "nbformat_minor": 2
}
